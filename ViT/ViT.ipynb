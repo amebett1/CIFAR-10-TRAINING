{
 "cells": [
  {
   "cell_type": "markdown",
   "id": "51b4db53",
   "metadata": {},
   "source": [
    "Thư viện"
   ]
  },
  {
   "cell_type": "code",
   "execution_count": 21,
   "id": "69903988",
   "metadata": {},
   "outputs": [
    {
     "name": "stdout",
     "output_type": "stream",
     "text": [
      "Requirement already satisfied: torch in c:\\users\\pc\\appdata\\local\\programs\\python\\python313\\lib\\site-packages (2.6.0+cu124)\n",
      "Requirement already satisfied: torchvision in c:\\users\\pc\\appdata\\local\\programs\\python\\python313\\lib\\site-packages (0.21.0+cu124)\n",
      "Requirement already satisfied: tqdm in c:\\users\\pc\\appdata\\local\\programs\\python\\python313\\lib\\site-packages (4.67.1)\n",
      "Requirement already satisfied: filelock in c:\\users\\pc\\appdata\\local\\programs\\python\\python313\\lib\\site-packages (from torch) (3.18.0)\n",
      "Requirement already satisfied: typing-extensions>=4.10.0 in c:\\users\\pc\\appdata\\local\\programs\\python\\python313\\lib\\site-packages (from torch) (4.14.1)\n",
      "Requirement already satisfied: networkx in c:\\users\\pc\\appdata\\local\\programs\\python\\python313\\lib\\site-packages (from torch) (3.4.2)\n",
      "Requirement already satisfied: jinja2 in c:\\users\\pc\\appdata\\local\\programs\\python\\python313\\lib\\site-packages (from torch) (3.1.6)\n",
      "Requirement already satisfied: fsspec in c:\\users\\pc\\appdata\\local\\programs\\python\\python313\\lib\\site-packages (from torch) (2025.7.0)\n",
      "Requirement already satisfied: setuptools in c:\\users\\pc\\appdata\\local\\programs\\python\\python313\\lib\\site-packages (from torch) (80.9.0)\n",
      "Requirement already satisfied: sympy==1.13.1 in c:\\users\\pc\\appdata\\local\\programs\\python\\python313\\lib\\site-packages (from torch) (1.13.1)\n",
      "Requirement already satisfied: mpmath<1.4,>=1.1.0 in c:\\users\\pc\\appdata\\local\\programs\\python\\python313\\lib\\site-packages (from sympy==1.13.1->torch) (1.3.0)\n",
      "Requirement already satisfied: numpy in c:\\users\\pc\\appdata\\local\\programs\\python\\python313\\lib\\site-packages (from torchvision) (2.2.6)\n",
      "Requirement already satisfied: pillow!=8.3.*,>=5.3.0 in c:\\users\\pc\\appdata\\local\\programs\\python\\python313\\lib\\site-packages (from torchvision) (11.3.0)\n",
      "Requirement already satisfied: colorama in c:\\users\\pc\\appdata\\local\\programs\\python\\python313\\lib\\site-packages (from tqdm) (0.4.6)\n",
      "Requirement already satisfied: MarkupSafe>=2.0 in c:\\users\\pc\\appdata\\local\\programs\\python\\python313\\lib\\site-packages (from jinja2->torch) (3.0.2)\n",
      "Note: you may need to restart the kernel to use updated packages.\n"
     ]
    },
    {
     "name": "stderr",
     "output_type": "stream",
     "text": [
      "\n",
      "[notice] A new release of pip is available: 25.2 -> 25.3\n",
      "[notice] To update, run: python.exe -m pip install --upgrade pip\n"
     ]
    }
   ],
   "source": [
    "%pip install torch torchvision tqdm"
   ]
  },
  {
   "cell_type": "markdown",
   "id": "8998137d",
   "metadata": {},
   "source": [
    "Dataset"
   ]
  },
  {
   "cell_type": "code",
   "execution_count": 22,
   "id": "b483a0ae",
   "metadata": {},
   "outputs": [
    {
     "name": "stdout",
     "output_type": "stream",
     "text": [
      "Device: cuda\n"
     ]
    }
   ],
   "source": [
    "import torch\n",
    "import torch.nn as nn\n",
    "import torch.optim as optim\n",
    "from torch.utils.data import DataLoader\n",
    "import torchvision\n",
    "import torchvision.transforms as T\n",
    "from tqdm import tqdm\n",
    "\n",
    "device = 'cuda' if torch.cuda.is_available() else 'cpu'\n",
    "print(\"Device:\", device)\n",
    "\n",
    "transform = T.Compose([\n",
    "    T.ToTensor(),\n",
    "    T.Normalize((0.5, 0.5, 0.5), (0.5, 0.5, 0.5))\n",
    "])\n",
    "\n",
    "train_set = torchvision.datasets.CIFAR10(root='./data', train=True, download=True, transform=transform)\n",
    "test_set  = torchvision.datasets.CIFAR10(root='./data', train=False, download=True, transform=transform)\n",
    "\n",
    "train_loader = DataLoader(train_set, batch_size=128, shuffle=True)\n",
    "test_loader  = DataLoader(test_set, batch_size=128, shuffle=False)"
   ]
  },
  {
   "cell_type": "markdown",
   "id": "eba90277",
   "metadata": {},
   "source": [
    "ViT\n"
   ]
  },
  {
   "cell_type": "markdown",
   "id": "aedec9e6",
   "metadata": {},
   "source": [
    "**Step 1: Patch Embedding**"
   ]
  },
  {
   "cell_type": "code",
   "execution_count": 23,
   "id": "485c70a5",
   "metadata": {},
   "outputs": [],
   "source": [
    "class patch_embedding(nn.Module):\n",
    "    def __init__(self, colors=3, embed_dim=128, patch_size=4):\n",
    "        super().__init__()\n",
    "        self.patch = nn.Conv2d(in_channels=colors, out_channels=embed_dim, kernel_size=patch_size, stride=patch_size)\n",
    "    def forward(self,x):\n",
    "        x = self.patch(x)\n",
    "        x = x.flatten(2) #[Batch,128,8,8] -> [Batch,128,64]\n",
    "        x = x.transpose(1,2) #[Batch,64,128]\n",
    "        return x"
   ]
  },
  {
   "cell_type": "code",
   "execution_count": 24,
   "id": "9e6d7c83",
   "metadata": {},
   "outputs": [
    {
     "name": "stdout",
     "output_type": "stream",
     "text": [
      "Ảnh gốc: torch.Size([128, 3, 32, 32])\n",
      "Sau patch embedding: torch.Size([128, 64, 128])\n"
     ]
    },
    {
     "data": {
      "image/png": "[encoded data removed]",
      "text/plain": [
       "<Figure size 640x480 with 1 Axes>"
      ]
     },
     "metadata": {},
     "output_type": "display_data"
    }
   ],
   "source": [
    "#visualization\n",
    "imgs, labels = next(iter(train_loader))\n",
    "imgs = imgs.to(device)\n",
    "\n",
    "patch_embed = patch_embedding().to(device)\n",
    "out = patch_embed(imgs)\n",
    "\n",
    "print(\"Ảnh gốc:\", imgs.shape)\n",
    "print(\"Sau patch embedding:\", out.shape)\n",
    "\n",
    "import matplotlib.pyplot as plt\n",
    "import numpy as np\n",
    "\n",
    "img = imgs[0].cpu().permute(1,2,0).numpy()\n",
    "plt.imshow((img * 0.5) + 0.5)\n",
    "plt.title(\"Ảnh gốc CIFAR-10 chia patch 4x4\")\n",
    "for i in range(0, 32, 4):\n",
    "    plt.axhline(i - 0.5, color='white', linewidth=0.5)\n",
    "for j in range(0, 32, 4):\n",
    "    plt.axvline(j - 0.5, color='white', linewidth=0.5)\n",
    "plt.show()\n"
   ]
  },
  {
   "cell_type": "markdown",
   "id": "78e582d3",
   "metadata": {},
   "source": [
    "**Step 2: Positional Encoding**"
   ]
  },
  {
   "cell_type": "code",
   "execution_count": 25,
   "id": "56f21443",
   "metadata": {},
   "outputs": [],
   "source": [
    "class positional_embedding(nn.Module):\n",
    "    def __init__(self, embed_dim, num_patch):\n",
    "        super().__init__()\n",
    "        self.pos_embed = nn.Parameter(torch.zeros(1, num_patch + 1, embed_dim))\n",
    "    def forward(self, x):\n",
    "        return x + self.pos_embed"
   ]
  },
  {
   "cell_type": "markdown",
   "id": "fe57f7f1",
   "metadata": {},
   "source": [
    "**Step 3: Transformer Encoder**"
   ]
  },
  {
   "cell_type": "code",
   "execution_count": null,
   "id": "0924b497",
   "metadata": {},
   "outputs": [],
   "source": [
    "class multi_head_self_attention(nn.Module):\n",
    "    def __init__(self, embed_dim, num_heads):\n",
    "        super().__init__()\n",
    "        self.attention = nn.MultiheadAttention(embed_dim, num_heads, batch_first=True)\n",
    "\n",
    "    def forward(self, x):\n",
    "        out, _ = self.attention(x, x, x)\n",
    "        return out"
   ]
  },
  {
   "cell_type": "code",
   "execution_count": null,
   "id": "7411305b",
   "metadata": {},
   "outputs": [],
   "source": [
    "class transformer_encoder(nn.Module):\n",
    "    def __init__(self, embed_dim, num_heads, mlp_dim):\n",
    "        super().__init__()\n",
    "        #Layer 1\n",
    "        self.norm1 = nn.LayerNorm(embed_dim)\n",
    "        self.multi_head_attention = multi_head_self_attention(embed_dim, num_heads)\n",
    "        #Layer 2\n",
    "        self.norm2 = nn.LayerNorm(embed_dim)\n",
    "        self.mlp = nn.Sequential(\n",
    "            nn.Linear(embed_dim, mlp_dim),\n",
    "            nn.LeakyReLU(),\n",
    "            nn.Linear(mlp_dim, embed_dim)\n",
    "        )\n",
    "    def forward(self, x):\n",
    "        x = x + self.multi_head_attention   (self.norm1(x))\n",
    "        x = x + self.mlp(self.norm2(x))\n",
    "        return x"
   ]
  },
  {
   "cell_type": "markdown",
   "id": "b0a95080",
   "metadata": {},
   "source": [
    "**Step 4: Vision Transformer**\n"
   ]
  },
  {
   "cell_type": "code",
   "execution_count": 28,
   "id": "cfce5def",
   "metadata": {},
   "outputs": [],
   "source": [
    "class vision_transformer(nn.Module):\n",
    "    def __init__(self, img_size=32, patch_size=4, in_chans=3, num_classes=10,\n",
    "                 embed_dim=128, depth=6, num_heads=8, mlp_dim=256):\n",
    "        super().__init__()\n",
    "        self.patch_embed = patch_embedding(in_chans, embed_dim, patch_size)\n",
    "        num_patches = (img_size // patch_size) ** 2\n",
    "\n",
    "        self.cls_token = nn.Parameter(torch.zeros(1, 1, embed_dim))\n",
    "        nn.init.trunc_normal_(self.cls_token, std=0.02)\n",
    "\n",
    "        self.pos_embed = positional_embedding(embed_dim, num_patches)\n",
    "\n",
    "        self.encoders = nn.ModuleList([\n",
    "            transformer_encoder(embed_dim, num_heads, mlp_dim)\n",
    "            for _ in range(depth)\n",
    "        ])\n",
    "\n",
    "        self.norm = nn.LayerNorm(embed_dim)\n",
    "        self.head = nn.Linear(embed_dim, num_classes)\n",
    "\n",
    "    def forward(self, x):\n",
    "        B = x.shape[0]\n",
    "        x = self.patch_embed(x)               # [B, 64, 128]\n",
    "        cls_token = self.cls_token.expand(B, -1, -1)  # [B, 1, 128]\n",
    "        x = torch.cat((cls_token, x), dim=1)           # [B, 65, 128]\n",
    "        x = self.pos_embed(x)\n",
    "\n",
    "        for blk in self.encoders:\n",
    "            x = blk(x)\n",
    "\n",
    "        x = self.norm(x)\n",
    "        cls_out = x[:, 0]  # lấy token đầu tiên\n",
    "        out = self.head(cls_out)\n",
    "        return out"
   ]
  },
  {
   "cell_type": "code",
   "execution_count": 29,
   "id": "aa67effc",
   "metadata": {},
   "outputs": [
    {
     "name": "stdout",
     "output_type": "stream",
     "text": [
      "\n",
      "Epoch 1/10\n"
     ]
    },
    {
     "name": "stderr",
     "output_type": "stream",
     "text": [
      "                                                        \r"
     ]
    },
    {
     "name": "stdout",
     "output_type": "stream",
     "text": [
      "Train loss 2.3135, acc 9.84% | Val loss 2.3119, acc 10.00%\n",
      "✅ Saved best model.\n",
      "\n",
      "Epoch 2/10\n"
     ]
    },
    {
     "name": "stderr",
     "output_type": "stream",
     "text": [
      "                                                        \r"
     ]
    },
    {
     "name": "stdout",
     "output_type": "stream",
     "text": [
      "Train loss 2.3082, acc 9.99% | Val loss 2.3090, acc 10.00%\n",
      "\n",
      "Epoch 3/10\n"
     ]
    },
    {
     "name": "stderr",
     "output_type": "stream",
     "text": [
      "                                                        \r"
     ]
    },
    {
     "name": "stdout",
     "output_type": "stream",
     "text": [
      "Train loss 2.3075, acc 9.88% | Val loss 2.3069, acc 10.00%\n",
      "\n",
      "Epoch 4/10\n"
     ]
    },
    {
     "name": "stderr",
     "output_type": "stream",
     "text": [
      "                                                        \r"
     ]
    },
    {
     "name": "stdout",
     "output_type": "stream",
     "text": [
      "Train loss 2.3070, acc 9.99% | Val loss 2.3068, acc 10.00%\n",
      "\n",
      "Epoch 5/10\n"
     ]
    },
    {
     "name": "stderr",
     "output_type": "stream",
     "text": [
      "                                                        \r"
     ]
    },
    {
     "name": "stdout",
     "output_type": "stream",
     "text": [
      "Train loss 2.3064, acc 9.92% | Val loss 2.3045, acc 10.00%\n",
      "\n",
      "Epoch 6/10\n"
     ]
    },
    {
     "name": "stderr",
     "output_type": "stream",
     "text": [
      "                                                        \r"
     ]
    },
    {
     "name": "stdout",
     "output_type": "stream",
     "text": [
      "Train loss 2.3063, acc 9.77% | Val loss 2.3081, acc 10.00%\n",
      "\n",
      "Epoch 7/10\n"
     ]
    },
    {
     "name": "stderr",
     "output_type": "stream",
     "text": [
      "                                                        \r"
     ]
    },
    {
     "name": "stdout",
     "output_type": "stream",
     "text": [
      "Train loss 2.3061, acc 9.78% | Val loss 2.3045, acc 10.00%\n",
      "\n",
      "Epoch 8/10\n"
     ]
    },
    {
     "name": "stderr",
     "output_type": "stream",
     "text": [
      "                                                        \r"
     ]
    },
    {
     "name": "stdout",
     "output_type": "stream",
     "text": [
      "Train loss 2.3062, acc 9.88% | Val loss 2.3040, acc 10.00%\n",
      "\n",
      "Epoch 9/10\n"
     ]
    },
    {
     "name": "stderr",
     "output_type": "stream",
     "text": [
      "                                                        \r"
     ]
    },
    {
     "name": "stdout",
     "output_type": "stream",
     "text": [
      "Train loss 2.3054, acc 10.11% | Val loss 2.3054, acc 10.00%\n",
      "\n",
      "Epoch 10/10\n"
     ]
    },
    {
     "name": "stderr",
     "output_type": "stream",
     "text": [
      "                                                        "
     ]
    },
    {
     "name": "stdout",
     "output_type": "stream",
     "text": [
      "Train loss 2.3054, acc 9.78% | Val loss 2.3056, acc 10.00%\n",
      "\n",
      "Best Validation Accuracy: 10.00%\n"
     ]
    },
    {
     "name": "stderr",
     "output_type": "stream",
     "text": [
      "\r"
     ]
    }
   ],
   "source": [
    "# ================== Training Loop ==================\n",
    "def train_epoch(model, loader, criterion, optimizer):\n",
    "    model.train()\n",
    "    total_loss, correct, total = 0, 0, 0\n",
    "    for imgs, labels in tqdm(loader, desc=\"Train\", leave=False):\n",
    "        imgs, labels = imgs.to(device), labels.to(device)\n",
    "        optimizer.zero_grad()\n",
    "        outputs = model(imgs)\n",
    "        loss = criterion(outputs, labels)\n",
    "        loss.backward()\n",
    "        optimizer.step()\n",
    "\n",
    "        total_loss += loss.item() * imgs.size(0)\n",
    "        preds = outputs.argmax(1)\n",
    "        correct += (preds == labels).sum().item()\n",
    "        total += labels.size(0)\n",
    "    return total_loss / total, 100 * correct / total\n",
    "\n",
    "def eval_epoch(model, loader, criterion):\n",
    "    model.eval()\n",
    "    total_loss, correct, total = 0, 0, 0\n",
    "    with torch.no_grad():\n",
    "        for imgs, labels in tqdm(loader, desc=\"Eval\", leave=False):\n",
    "            imgs, labels = imgs.to(device), labels.to(device)\n",
    "            outputs = model(imgs)\n",
    "            loss = criterion(outputs, labels)\n",
    "            total_loss += loss.item() * imgs.size(0)\n",
    "            preds = outputs.argmax(1)\n",
    "            correct += (preds == labels).sum().item()\n",
    "            total += labels.size(0)\n",
    "    return total_loss / total, 100 * correct / total\n",
    "\n",
    "# ================== Main Train ==================\n",
    "model = vision_transformer().to(device)\n",
    "criterion = nn.CrossEntropyLoss()\n",
    "optimizer = optim.AdamW(model.parameters(), lr=3e-4, weight_decay=0.05)\n",
    "\n",
    "epochs = 10\n",
    "best_acc = 0.0\n",
    "for epoch in range(1, epochs + 1):\n",
    "    print(f\"\\nEpoch {epoch}/{epochs}\")\n",
    "    train_loss, train_acc = train_epoch(model, train_loader, criterion, optimizer)\n",
    "    val_loss, val_acc = eval_epoch(model, test_loader, criterion)\n",
    "    print(f\"Train loss {train_loss:.4f}, acc {train_acc:.2f}% | Val loss {val_loss:.4f}, acc {val_acc:.2f}%\")\n",
    "\n",
    "    if val_acc > best_acc:\n",
    "        best_acc = val_acc\n",
    "        torch.save(model.state_dict(), \"best_vit.pth\")\n",
    "        print(\"✅ Saved best model.\")\n",
    "\n",
    "print(f\"\\nBest Validation Accuracy: {best_acc:.2f}%\")"
   ]
  }
 ],
 "metadata": {
  "kernelspec": {
   "display_name": "Python 3",
   "language": "python",
   "name": "python3"
  },
  "language_info": {
   "codemirror_mode": {
    "name": "ipython",
    "version": 3
   },
   "file_extension": ".py",
   "mimetype": "text/x-python",
   "name": "python",
   "nbconvert_exporter": "python",
   "pygments_lexer": "ipython3",
   "version": "3.13.5"
  }
 },
 "nbformat": 4,
 "nbformat_minor": 5
}
